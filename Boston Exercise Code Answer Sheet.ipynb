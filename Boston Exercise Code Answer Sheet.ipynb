{
 "cells": [
  {
   "cell_type": "code",
   "execution_count": 1,
   "metadata": {
    "collapsed": true
   },
   "outputs": [],
   "source": [
    "import pandas as pd\n",
    "import matplotlib.pyplot as plt\n",
    "import numpy as np\n",
    "%matplotlib inline"
   ]
  },
  {
   "cell_type": "code",
   "execution_count": 2,
   "metadata": {
    "collapsed": true
   },
   "outputs": [],
   "source": [
    "data = pd.read_csv('employee-earnings-report-2016.csv',encoding=\"ISO-8859-1\")\n",
    "dataframe = pd.DataFrame(data)"
   ]
  },
  {
   "cell_type": "code",
   "execution_count": 3,
   "metadata": {},
   "outputs": [
    {
     "name": "stdout",
     "output_type": "stream",
     "text": [
      "<class 'pandas.core.frame.DataFrame'>\n",
      "RangeIndex: 22046 entries, 0 to 22045\n",
      "Data columns (total 12 columns):\n",
      "NAME                         22046 non-null object\n",
      "DEPARTMENT_NAME              22046 non-null object\n",
      "TITLE                        22046 non-null object\n",
      "REGULAR                      21463 non-null object\n",
      "RETRO                        416 non-null object\n",
      "OTHER                        12845 non-null object\n",
      "OVERTIME                     6690 non-null object\n",
      "INJURED                      1378 non-null object\n",
      "DETAIL                       2425 non-null object\n",
      "QUINN/EDUCATION INCENTIVE    1290 non-null object\n",
      "TOTAL EARNINGS               22046 non-null object\n",
      "POSTAL                       22045 non-null object\n",
      "dtypes: object(12)\n",
      "memory usage: 2.0+ MB\n"
     ]
    }
   ],
   "source": [
    "dataframe.info()"
   ]
  },
  {
   "cell_type": "markdown",
   "metadata": {},
   "source": [
    "#### question 1"
   ]
  },
  {
   "cell_type": "code",
   "execution_count": 4,
   "metadata": {},
   "outputs": [
    {
     "data": {
      "text/html": [
       "<div>\n",
       "<style>\n",
       "    .dataframe thead tr:only-child th {\n",
       "        text-align: right;\n",
       "    }\n",
       "\n",
       "    .dataframe thead th {\n",
       "        text-align: left;\n",
       "    }\n",
       "\n",
       "    .dataframe tbody tr th {\n",
       "        vertical-align: top;\n",
       "    }\n",
       "</style>\n",
       "<table border=\"1\" class=\"dataframe\">\n",
       "  <thead>\n",
       "    <tr style=\"text-align: right;\">\n",
       "      <th></th>\n",
       "      <th>NAME</th>\n",
       "      <th>DEPARTMENT_NAME</th>\n",
       "      <th>TITLE</th>\n",
       "      <th>REGULAR</th>\n",
       "      <th>RETRO</th>\n",
       "      <th>OTHER</th>\n",
       "      <th>OVERTIME</th>\n",
       "      <th>INJURED</th>\n",
       "      <th>DETAIL</th>\n",
       "      <th>QUINN/EDUCATION INCENTIVE</th>\n",
       "      <th>TOTAL EARNINGS</th>\n",
       "      <th>POSTAL</th>\n",
       "    </tr>\n",
       "  </thead>\n",
       "  <tbody>\n",
       "    <tr>\n",
       "      <th>0</th>\n",
       "      <td>Abadi,Kidani A</td>\n",
       "      <td>Assessing Department</td>\n",
       "      <td>Property Officer</td>\n",
       "      <td>$46,291.98</td>\n",
       "      <td>NaN</td>\n",
       "      <td>$300.00</td>\n",
       "      <td>NaN</td>\n",
       "      <td>NaN</td>\n",
       "      <td>NaN</td>\n",
       "      <td>NaN</td>\n",
       "      <td>$46,591.98</td>\n",
       "      <td>02118</td>\n",
       "    </tr>\n",
       "    <tr>\n",
       "      <th>1</th>\n",
       "      <td>Abasciano,Joseph</td>\n",
       "      <td>Boston Police Department</td>\n",
       "      <td>Police Officer</td>\n",
       "      <td>$6,933.66</td>\n",
       "      <td>NaN</td>\n",
       "      <td>$850.00</td>\n",
       "      <td>$205.92</td>\n",
       "      <td>$74,331.86</td>\n",
       "      <td>NaN</td>\n",
       "      <td>$15,258.44</td>\n",
       "      <td>$97,579.88</td>\n",
       "      <td>02132</td>\n",
       "    </tr>\n",
       "    <tr>\n",
       "      <th>2</th>\n",
       "      <td>Abban,Christopher John</td>\n",
       "      <td>Boston Fire Department</td>\n",
       "      <td>Fire Fighter</td>\n",
       "      <td>$103,442.22</td>\n",
       "      <td>NaN</td>\n",
       "      <td>$550.00</td>\n",
       "      <td>$15,884.53</td>\n",
       "      <td>NaN</td>\n",
       "      <td>$4,746.50</td>\n",
       "      <td>NaN</td>\n",
       "      <td>$124,623.25</td>\n",
       "      <td>02132</td>\n",
       "    </tr>\n",
       "    <tr>\n",
       "      <th>3</th>\n",
       "      <td>Abbasi,Sophia</td>\n",
       "      <td>Green Academy</td>\n",
       "      <td>Manager (C) (non-ac)</td>\n",
       "      <td>$18,249.83</td>\n",
       "      <td>NaN</td>\n",
       "      <td>NaN</td>\n",
       "      <td>NaN</td>\n",
       "      <td>NaN</td>\n",
       "      <td>NaN</td>\n",
       "      <td>NaN</td>\n",
       "      <td>$18,249.83</td>\n",
       "      <td>02148</td>\n",
       "    </tr>\n",
       "    <tr>\n",
       "      <th>4</th>\n",
       "      <td>Abbate-Vaughn,Jorgelina</td>\n",
       "      <td>BPS Ellis Elementary</td>\n",
       "      <td>Teacher</td>\n",
       "      <td>$84,410.28</td>\n",
       "      <td>NaN</td>\n",
       "      <td>$1,250.00</td>\n",
       "      <td>NaN</td>\n",
       "      <td>NaN</td>\n",
       "      <td>NaN</td>\n",
       "      <td>NaN</td>\n",
       "      <td>$85,660.28</td>\n",
       "      <td>02481</td>\n",
       "    </tr>\n",
       "  </tbody>\n",
       "</table>\n",
       "</div>"
      ],
      "text/plain": [
       "                      NAME           DEPARTMENT_NAME                 TITLE  \\\n",
       "0           Abadi,Kidani A      Assessing Department      Property Officer   \n",
       "1         Abasciano,Joseph  Boston Police Department        Police Officer   \n",
       "2   Abban,Christopher John    Boston Fire Department          Fire Fighter   \n",
       "3            Abbasi,Sophia             Green Academy  Manager (C) (non-ac)   \n",
       "4  Abbate-Vaughn,Jorgelina      BPS Ellis Elementary               Teacher   \n",
       "\n",
       "       REGULAR RETRO      OTHER    OVERTIME     INJURED     DETAIL  \\\n",
       "0   $46,291.98   NaN    $300.00         NaN         NaN        NaN   \n",
       "1    $6,933.66   NaN    $850.00     $205.92  $74,331.86        NaN   \n",
       "2  $103,442.22   NaN    $550.00  $15,884.53         NaN  $4,746.50   \n",
       "3   $18,249.83   NaN        NaN         NaN         NaN        NaN   \n",
       "4   $84,410.28   NaN  $1,250.00         NaN         NaN        NaN   \n",
       "\n",
       "  QUINN/EDUCATION INCENTIVE TOTAL EARNINGS POSTAL  \n",
       "0                       NaN     $46,591.98  02118  \n",
       "1                $15,258.44     $97,579.88  02132  \n",
       "2                       NaN    $124,623.25  02132  \n",
       "3                       NaN     $18,249.83  02148  \n",
       "4                       NaN     $85,660.28  02481  "
      ]
     },
     "execution_count": 4,
     "metadata": {},
     "output_type": "execute_result"
    }
   ],
   "source": [
    "dataframe.head()"
   ]
  },
  {
   "cell_type": "code",
   "execution_count": 5,
   "metadata": {},
   "outputs": [
    {
     "data": {
      "text/plain": [
       "82"
      ]
     },
     "execution_count": 5,
     "metadata": {},
     "output_type": "execute_result"
    }
   ],
   "source": [
    "dataframe['NAME'].duplicated().sum()"
   ]
  },
  {
   "cell_type": "code",
   "execution_count": 6,
   "metadata": {
    "scrolled": true
   },
   "outputs": [
    {
     "data": {
      "text/plain": [
       "268           Allen,Katherine\n",
       "357             Alves,John F.\n",
       "423           Anderson,Daniel\n",
       "2094           Brown,Charlene\n",
       "2491         Butler,Michael V\n",
       "3846          Colon,Francisco\n",
       "3908             Conley,James\n",
       "4012           Conroy,Patrick\n",
       "4440         Crowley,Kathleen\n",
       "4443          Crowley,Michael\n",
       "4621             Curtis,David\n",
       "5502          Doherty,Brian J\n",
       "6690        Finnigan,Patricia\n",
       "6807            Flaherty,Sean\n",
       "6910             Flynn,Robert\n",
       "6951            Foley,Kevin J\n",
       "6978          Foley,William P\n",
       "7361        Gallagher,Kelly A\n",
       "7893               Gomez,Juan\n",
       "7941            Gonzalez,Jose\n",
       "8171            Green,Anthony\n",
       "8217            Greene,John J\n",
       "8266        Griffin,Daniel G.\n",
       "8686     Harrington,Richard F\n",
       "8721            Harris,John W\n",
       "9427             Horne,Edward\n",
       "10058         Johnson,Cynthia\n",
       "10214          Jones,Patricia\n",
       "10284             Joseph,Jean\n",
       "10614            Kelley,Susan\n",
       "                 ...         \n",
       "13924          Mills,Lemuel V\n",
       "14463        Mullaly,Michelle\n",
       "14548           Murphy,Andrew\n",
       "14563           Murphy,Daniel\n",
       "14617           Murphy,Sean M\n",
       "14622          Murphy,Shannon\n",
       "15108          Norton,Stephen\n",
       "15368         O'Keefe,Michael\n",
       "15419        O'Loughlin,James\n",
       "16600         Powers,Kathleen\n",
       "16606         Powers,Robert E\n",
       "17463    Rodriguez,Jacqueline\n",
       "17654      Rosario,Jacqueline\n",
       "17668             Rose,Pamela\n",
       "18203       Savicke,Richard J\n",
       "18975           Smith,Michael\n",
       "18990            Smith,Robert\n",
       "19552           Sullivan,John\n",
       "19560    Sullivan,Kathleen M.\n",
       "19563          Sullivan,Kevin\n",
       "19572       Sullivan,Margaret\n",
       "19580        Sullivan,Michael\n",
       "19581        Sullivan,Michael\n",
       "19582        Sullivan,Michael\n",
       "20046        Thompson,Anthony\n",
       "20233        Torres,Elizabeth\n",
       "20978            Walsh,Mary E\n",
       "20990          Walsh,Patricia\n",
       "21476          Williams,Kevin\n",
       "21571            Wilson,Laura\n",
       "Name: NAME, Length: 82, dtype: object"
      ]
     },
     "execution_count": 6,
     "metadata": {},
     "output_type": "execute_result"
    }
   ],
   "source": [
    "dataframe[dataframe['NAME'].duplicated()]['NAME']"
   ]
  },
  {
   "cell_type": "code",
   "execution_count": 7,
   "metadata": {
    "scrolled": true
   },
   "outputs": [
    {
     "data": {
      "text/plain": [
       "Sullivan,Michael        4\n",
       "Kelly,Michael           3\n",
       "Williams,Kevin          2\n",
       "Martinez,David          2\n",
       "Lynch,Patrick           2\n",
       "Sullivan,John           2\n",
       "Murphy,Daniel           2\n",
       "Crowley,Kathleen        2\n",
       "Walsh,Mary E            2\n",
       "Doherty,Brian J         2\n",
       "Gomez,Juan              2\n",
       "Curtis,David            2\n",
       "Smith,Michael           2\n",
       "Conroy,Patrick          2\n",
       "Marsh,Kathleen A        2\n",
       "Norton,Stephen          2\n",
       "Harrington,Richard F    2\n",
       "Powers,Robert E         2\n",
       "Harris,John W           2\n",
       "Gallagher,Kelly A       2\n",
       "Torres,Elizabeth        2\n",
       "Sullivan,Kevin          2\n",
       "Thompson,Anthony        2\n",
       "Wilson,Laura            2\n",
       "McManus,Michael J       2\n",
       "Smith,Robert            2\n",
       "Alves,John F.           2\n",
       "McClain,Diane           2\n",
       "Flaherty,Sean           2\n",
       "McDonald,John           2\n",
       "                       ..\n",
       "Aguilar,Luis            1\n",
       "Hackett,Gail M          1\n",
       "Puopolo,Stephen E       1\n",
       "Hernandez,Niurka S.     1\n",
       "Jean,Nadine F           1\n",
       "Mackenzie,Ian C.        1\n",
       "Chin,Yui Ying           1\n",
       "Thornton,Dianne         1\n",
       "McDonough,Thomas E.     1\n",
       "Dunn,Anna Mae           1\n",
       "Blake,Sarah E.          1\n",
       "Collins,Christi M       1\n",
       "Luisi,Meredith J        1\n",
       "Lake,Nadine S           1\n",
       "Santiago,Carmen G.      1\n",
       "Forde,Neil W.           1\n",
       "Mullins,Daniel L        1\n",
       "O'Neill,Cara            1\n",
       "Alexandre,Yves M.       1\n",
       "Galbiati,Maria A        1\n",
       "Kelly,Ryan T            1\n",
       "Kahan,Jessica           1\n",
       "McEachern,Brian J       1\n",
       "Edwards,Derrick S.      1\n",
       "Morel,Carmen D          1\n",
       "Dunn,Cavan              1\n",
       "Beckels,Vivianna A      1\n",
       "Cook,Keshia             1\n",
       "Lankhorst,Craig         1\n",
       "Scott Jr.,Thomas L.     1\n",
       "Name: NAME, Length: 21964, dtype: int64"
      ]
     },
     "execution_count": 7,
     "metadata": {},
     "output_type": "execute_result"
    }
   ],
   "source": [
    "dataframe['NAME'].value_counts()"
   ]
  },
  {
   "cell_type": "code",
   "execution_count": 8,
   "metadata": {},
   "outputs": [
    {
     "data": {
      "text/plain": [
       "NAME               21964\n",
       "DEPARTMENT_NAME      228\n",
       "dtype: int64"
      ]
     },
     "execution_count": 8,
     "metadata": {},
     "output_type": "execute_result"
    }
   ],
   "source": [
    "dataframe[['NAME','DEPARTMENT_NAME']].nunique()\n"
   ]
  },
  {
   "cell_type": "code",
   "execution_count": 9,
   "metadata": {},
   "outputs": [
    {
     "data": {
      "text/plain": [
       "82"
      ]
     },
     "execution_count": 9,
     "metadata": {},
     "output_type": "execute_result"
    }
   ],
   "source": [
    "# how many names appear multiple times in our dataset? \n",
    "dataframe['NAME'].duplicated().sum()"
   ]
  },
  {
   "cell_type": "code",
   "execution_count": 10,
   "metadata": {},
   "outputs": [
    {
     "data": {
      "text/html": [
       "<div>\n",
       "<style>\n",
       "    .dataframe thead tr:only-child th {\n",
       "        text-align: right;\n",
       "    }\n",
       "\n",
       "    .dataframe thead th {\n",
       "        text-align: left;\n",
       "    }\n",
       "\n",
       "    .dataframe tbody tr th {\n",
       "        vertical-align: top;\n",
       "    }\n",
       "</style>\n",
       "<table border=\"1\" class=\"dataframe\">\n",
       "  <thead>\n",
       "    <tr style=\"text-align: right;\">\n",
       "      <th></th>\n",
       "      <th>NAME</th>\n",
       "      <th>DEPARTMENT_NAME</th>\n",
       "      <th>TITLE</th>\n",
       "      <th>REGULAR</th>\n",
       "      <th>RETRO</th>\n",
       "      <th>OTHER</th>\n",
       "      <th>OVERTIME</th>\n",
       "      <th>INJURED</th>\n",
       "      <th>DETAIL</th>\n",
       "      <th>QUINN/EDUCATION INCENTIVE</th>\n",
       "      <th>TOTAL EARNINGS</th>\n",
       "      <th>POSTAL</th>\n",
       "    </tr>\n",
       "  </thead>\n",
       "  <tbody>\n",
       "    <tr>\n",
       "      <th>0</th>\n",
       "      <td>Abadi,Kidani A</td>\n",
       "      <td>Assessing Department</td>\n",
       "      <td>Property Officer</td>\n",
       "      <td>$46,291.98</td>\n",
       "      <td>NaN</td>\n",
       "      <td>$300.00</td>\n",
       "      <td>NaN</td>\n",
       "      <td>NaN</td>\n",
       "      <td>NaN</td>\n",
       "      <td>NaN</td>\n",
       "      <td>$46,591.98</td>\n",
       "      <td>02118</td>\n",
       "    </tr>\n",
       "    <tr>\n",
       "      <th>1</th>\n",
       "      <td>Abasciano,Joseph</td>\n",
       "      <td>Boston Police Department</td>\n",
       "      <td>Police Officer</td>\n",
       "      <td>$6,933.66</td>\n",
       "      <td>NaN</td>\n",
       "      <td>$850.00</td>\n",
       "      <td>$205.92</td>\n",
       "      <td>$74,331.86</td>\n",
       "      <td>NaN</td>\n",
       "      <td>$15,258.44</td>\n",
       "      <td>$97,579.88</td>\n",
       "      <td>02132</td>\n",
       "    </tr>\n",
       "    <tr>\n",
       "      <th>2</th>\n",
       "      <td>Abban,Christopher John</td>\n",
       "      <td>Boston Fire Department</td>\n",
       "      <td>Fire Fighter</td>\n",
       "      <td>$103,442.22</td>\n",
       "      <td>NaN</td>\n",
       "      <td>$550.00</td>\n",
       "      <td>$15,884.53</td>\n",
       "      <td>NaN</td>\n",
       "      <td>$4,746.50</td>\n",
       "      <td>NaN</td>\n",
       "      <td>$124,623.25</td>\n",
       "      <td>02132</td>\n",
       "    </tr>\n",
       "    <tr>\n",
       "      <th>3</th>\n",
       "      <td>Abbasi,Sophia</td>\n",
       "      <td>Green Academy</td>\n",
       "      <td>Manager (C) (non-ac)</td>\n",
       "      <td>$18,249.83</td>\n",
       "      <td>NaN</td>\n",
       "      <td>NaN</td>\n",
       "      <td>NaN</td>\n",
       "      <td>NaN</td>\n",
       "      <td>NaN</td>\n",
       "      <td>NaN</td>\n",
       "      <td>$18,249.83</td>\n",
       "      <td>02148</td>\n",
       "    </tr>\n",
       "    <tr>\n",
       "      <th>4</th>\n",
       "      <td>Abbate-Vaughn,Jorgelina</td>\n",
       "      <td>BPS Ellis Elementary</td>\n",
       "      <td>Teacher</td>\n",
       "      <td>$84,410.28</td>\n",
       "      <td>NaN</td>\n",
       "      <td>$1,250.00</td>\n",
       "      <td>NaN</td>\n",
       "      <td>NaN</td>\n",
       "      <td>NaN</td>\n",
       "      <td>NaN</td>\n",
       "      <td>$85,660.28</td>\n",
       "      <td>02481</td>\n",
       "    </tr>\n",
       "  </tbody>\n",
       "</table>\n",
       "</div>"
      ],
      "text/plain": [
       "                      NAME           DEPARTMENT_NAME                 TITLE  \\\n",
       "0           Abadi,Kidani A      Assessing Department      Property Officer   \n",
       "1         Abasciano,Joseph  Boston Police Department        Police Officer   \n",
       "2   Abban,Christopher John    Boston Fire Department          Fire Fighter   \n",
       "3            Abbasi,Sophia             Green Academy  Manager (C) (non-ac)   \n",
       "4  Abbate-Vaughn,Jorgelina      BPS Ellis Elementary               Teacher   \n",
       "\n",
       "       REGULAR RETRO      OTHER    OVERTIME     INJURED     DETAIL  \\\n",
       "0   $46,291.98   NaN    $300.00         NaN         NaN        NaN   \n",
       "1    $6,933.66   NaN    $850.00     $205.92  $74,331.86        NaN   \n",
       "2  $103,442.22   NaN    $550.00  $15,884.53         NaN  $4,746.50   \n",
       "3   $18,249.83   NaN        NaN         NaN         NaN        NaN   \n",
       "4   $84,410.28   NaN  $1,250.00         NaN         NaN        NaN   \n",
       "\n",
       "  QUINN/EDUCATION INCENTIVE TOTAL EARNINGS POSTAL  \n",
       "0                       NaN     $46,591.98  02118  \n",
       "1                $15,258.44     $97,579.88  02132  \n",
       "2                       NaN    $124,623.25  02132  \n",
       "3                       NaN     $18,249.83  02148  \n",
       "4                       NaN     $85,660.28  02481  "
      ]
     },
     "execution_count": 10,
     "metadata": {},
     "output_type": "execute_result"
    }
   ],
   "source": [
    "dataframe.head()"
   ]
  },
  {
   "cell_type": "code",
   "execution_count": 11,
   "metadata": {},
   "outputs": [
    {
     "data": {
      "text/plain": [
       "9"
      ]
     },
     "execution_count": 11,
     "metadata": {},
     "output_type": "execute_result"
    }
   ],
   "source": [
    "# mash the name and department into one string for folks with same name woring in different departments\n",
    "dataframe['COMBO_STRING'] = dataframe['NAME'] + dataframe['DEPARTMENT_NAME'] \n",
    "dataframe['COMBO_STRING'].duplicated().sum()"
   ]
  },
  {
   "cell_type": "code",
   "execution_count": 12,
   "metadata": {},
   "outputs": [
    {
     "data": {
      "text/plain": [
       "4"
      ]
     },
     "execution_count": 12,
     "metadata": {},
     "output_type": "execute_result"
    }
   ],
   "source": [
    "# lets mash the name, department and title into one string to see if anything changes\n",
    "dataframe['COMBO_N-D-T'] = dataframe['NAME'] + dataframe['DEPARTMENT_NAME'] + dataframe['TITLE']\n",
    "dataframe['COMBO_N-D-T'].duplicated().sum()"
   ]
  },
  {
   "cell_type": "markdown",
   "metadata": {},
   "source": [
    "#### question 2"
   ]
  },
  {
   "cell_type": "code",
   "execution_count": 13,
   "metadata": {},
   "outputs": [
    {
     "data": {
      "text/plain": [
       "228"
      ]
     },
     "execution_count": 13,
     "metadata": {},
     "output_type": "execute_result"
    }
   ],
   "source": [
    "dataframe['DEPARTMENT_NAME'].nunique()"
   ]
  },
  {
   "cell_type": "markdown",
   "metadata": {},
   "source": [
    "#### question 3"
   ]
  },
  {
   "cell_type": "code",
   "execution_count": 14,
   "metadata": {},
   "outputs": [
    {
     "data": {
      "text/plain": [
       "'$990.64'"
      ]
     },
     "execution_count": 14,
     "metadata": {},
     "output_type": "execute_result"
    }
   ],
   "source": [
    "dataframe['TOTAL EARNINGS'].max()"
   ]
  },
  {
   "cell_type": "code",
   "execution_count": 17,
   "metadata": {
    "collapsed": true
   },
   "outputs": [
    {
     "data": {
      "text/plain": [
       "10478       $990.64\n",
       "15036       $990.64\n",
       "21380       $990.63\n",
       "1869        $990.62\n",
       "13303       $990.61\n",
       "21999       $990.61\n",
       "1960     $99,997.38\n",
       "1083     $99,989.18\n",
       "5999     $99,972.07\n",
       "18134    $99,970.30\n",
       "3626     $99,964.18\n",
       "19480    $99,960.31\n",
       "9122     $99,958.32\n",
       "19160    $99,954.56\n",
       "17122    $99,948.98\n",
       "19155    $99,948.20\n",
       "10781    $99,946.98\n",
       "21394    $99,939.24\n",
       "9463     $99,934.75\n",
       "14541    $99,920.78\n",
       "7        $99,920.14\n",
       "20013    $99,910.16\n",
       "10902    $99,909.47\n",
       "2226     $99,903.72\n",
       "3632     $99,900.09\n",
       "18853    $99,898.10\n",
       "2275     $99,895.92\n",
       "20832    $99,891.68\n",
       "15449    $99,891.68\n",
       "19587    $99,886.02\n",
       "            ...    \n",
       "8118      $1,125.57\n",
       "4483      $1,123.68\n",
       "5717      $1,120.00\n",
       "7179      $1,108.73\n",
       "14083     $1,107.49\n",
       "6913      $1,103.65\n",
       "11759     $1,103.51\n",
       "16973     $1,093.20\n",
       "8253      $1,090.00\n",
       "15086     $1,077.96\n",
       "4151      $1,075.00\n",
       "6365      $1,074.96\n",
       "10440     $1,071.50\n",
       "15919     $1,052.15\n",
       "2119      $1,052.06\n",
       "12803     $1,043.33\n",
       "15344     $1,036.87\n",
       "10735     $1,036.50\n",
       "21446     $1,028.51\n",
       "18703     $1,028.28\n",
       "21117     $1,020.36\n",
       "21508     $1,020.36\n",
       "20498     $1,020.33\n",
       "9711      $1,020.33\n",
       "9409      $1,017.94\n",
       "5915      $1,010.05\n",
       "21349     $1,006.53\n",
       "15058     $1,000.00\n",
       "7104      $1,000.00\n",
       "11146     $1,000.00\n",
       "Name: TOTAL EARNINGS, Length: 22046, dtype: object"
      ]
     },
     "execution_count": 17,
     "metadata": {},
     "output_type": "execute_result"
    }
   ],
   "source": [
    "dataframe['TOTAL EARNINGS'].sort_values(ascending=False)"
   ]
  },
  {
   "cell_type": "markdown",
   "metadata": {},
   "source": [
    "#### <font color=red>Wait, that don't look right. Let's examine.</font>"
   ]
  },
  {
   "cell_type": "code",
   "execution_count": 18,
   "metadata": {},
   "outputs": [
    {
     "data": {
      "text/html": [
       "<div>\n",
       "<style>\n",
       "    .dataframe thead tr:only-child th {\n",
       "        text-align: right;\n",
       "    }\n",
       "\n",
       "    .dataframe thead th {\n",
       "        text-align: left;\n",
       "    }\n",
       "\n",
       "    .dataframe tbody tr th {\n",
       "        vertical-align: top;\n",
       "    }\n",
       "</style>\n",
       "<table border=\"1\" class=\"dataframe\">\n",
       "  <thead>\n",
       "    <tr style=\"text-align: right;\">\n",
       "      <th></th>\n",
       "      <th>NAME</th>\n",
       "      <th>DEPARTMENT_NAME</th>\n",
       "      <th>TITLE</th>\n",
       "      <th>REGULAR</th>\n",
       "      <th>RETRO</th>\n",
       "      <th>OTHER</th>\n",
       "      <th>OVERTIME</th>\n",
       "      <th>INJURED</th>\n",
       "      <th>DETAIL</th>\n",
       "      <th>QUINN/EDUCATION INCENTIVE</th>\n",
       "      <th>TOTAL EARNINGS</th>\n",
       "      <th>POSTAL</th>\n",
       "      <th>COMBO_STRING</th>\n",
       "      <th>COMBO_N-D-T</th>\n",
       "    </tr>\n",
       "  </thead>\n",
       "  <tbody>\n",
       "    <tr>\n",
       "      <th>22041</th>\n",
       "      <td>Zukowski III,Charles</td>\n",
       "      <td>BPS School Safety Service</td>\n",
       "      <td>Officer-Bps Police</td>\n",
       "      <td>$45,118.54</td>\n",
       "      <td>NaN</td>\n",
       "      <td>$600.00</td>\n",
       "      <td>$271.92</td>\n",
       "      <td>NaN</td>\n",
       "      <td>NaN</td>\n",
       "      <td>NaN</td>\n",
       "      <td>$45,990.46</td>\n",
       "      <td>02124</td>\n",
       "      <td>Zukowski III,CharlesBPS School Safety Service</td>\n",
       "      <td>Zukowski III,CharlesBPS School Safety ServiceO...</td>\n",
       "    </tr>\n",
       "    <tr>\n",
       "      <th>22042</th>\n",
       "      <td>Zuluaga  Castro,Juan Pablo</td>\n",
       "      <td>Boston Cntr - Youth &amp; Families</td>\n",
       "      <td>Lifeguard I</td>\n",
       "      <td>$3,538.84</td>\n",
       "      <td>NaN</td>\n",
       "      <td>NaN</td>\n",
       "      <td>$51.78</td>\n",
       "      <td>NaN</td>\n",
       "      <td>NaN</td>\n",
       "      <td>NaN</td>\n",
       "      <td>$3,590.62</td>\n",
       "      <td>02128</td>\n",
       "      <td>Zuluaga  Castro,Juan PabloBoston Cntr - Youth ...</td>\n",
       "      <td>Zuluaga  Castro,Juan PabloBoston Cntr - Youth ...</td>\n",
       "    </tr>\n",
       "    <tr>\n",
       "      <th>22043</th>\n",
       "      <td>Zwarich,Maralene Zoann</td>\n",
       "      <td>Dudley St. Neighborhood School</td>\n",
       "      <td>Teacher</td>\n",
       "      <td>$41,747.07</td>\n",
       "      <td>NaN</td>\n",
       "      <td>NaN</td>\n",
       "      <td>NaN</td>\n",
       "      <td>NaN</td>\n",
       "      <td>NaN</td>\n",
       "      <td>NaN</td>\n",
       "      <td>$41,747.07</td>\n",
       "      <td>02118</td>\n",
       "      <td>Zwarich,Maralene ZoannDudley St. Neighborhood ...</td>\n",
       "      <td>Zwarich,Maralene ZoannDudley St. Neighborhood ...</td>\n",
       "    </tr>\n",
       "    <tr>\n",
       "      <th>22044</th>\n",
       "      <td>Zweig,Susanna B</td>\n",
       "      <td>BPS Substitute Teachers/Nurs</td>\n",
       "      <td>Substitute Teacher HE</td>\n",
       "      <td>$29,489.32</td>\n",
       "      <td>NaN</td>\n",
       "      <td>NaN</td>\n",
       "      <td>NaN</td>\n",
       "      <td>NaN</td>\n",
       "      <td>NaN</td>\n",
       "      <td>NaN</td>\n",
       "      <td>$29,489.32</td>\n",
       "      <td>02125</td>\n",
       "      <td>Zweig,Susanna BBPS Substitute Teachers/Nurs</td>\n",
       "      <td>Zweig,Susanna BBPS Substitute Teachers/NursSub...</td>\n",
       "    </tr>\n",
       "    <tr>\n",
       "      <th>22045</th>\n",
       "      <td>Zwerdling,Laura</td>\n",
       "      <td>BPS Special Education</td>\n",
       "      <td>Teacher</td>\n",
       "      <td>$72,207.20</td>\n",
       "      <td>NaN</td>\n",
       "      <td>NaN</td>\n",
       "      <td>NaN</td>\n",
       "      <td>NaN</td>\n",
       "      <td>NaN</td>\n",
       "      <td>NaN</td>\n",
       "      <td>$72,207.20</td>\n",
       "      <td>02140</td>\n",
       "      <td>Zwerdling,LauraBPS Special Education</td>\n",
       "      <td>Zwerdling,LauraBPS Special EducationTeacher</td>\n",
       "    </tr>\n",
       "  </tbody>\n",
       "</table>\n",
       "</div>"
      ],
      "text/plain": [
       "                             NAME                 DEPARTMENT_NAME  \\\n",
       "22041        Zukowski III,Charles       BPS School Safety Service   \n",
       "22042  Zuluaga  Castro,Juan Pablo  Boston Cntr - Youth & Families   \n",
       "22043      Zwarich,Maralene Zoann  Dudley St. Neighborhood School   \n",
       "22044             Zweig,Susanna B    BPS Substitute Teachers/Nurs   \n",
       "22045             Zwerdling,Laura           BPS Special Education   \n",
       "\n",
       "                       TITLE     REGULAR RETRO    OTHER OVERTIME INJURED  \\\n",
       "22041     Officer-Bps Police  $45,118.54   NaN  $600.00  $271.92     NaN   \n",
       "22042            Lifeguard I   $3,538.84   NaN      NaN   $51.78     NaN   \n",
       "22043                Teacher  $41,747.07   NaN      NaN      NaN     NaN   \n",
       "22044  Substitute Teacher HE  $29,489.32   NaN      NaN      NaN     NaN   \n",
       "22045                Teacher  $72,207.20   NaN      NaN      NaN     NaN   \n",
       "\n",
       "      DETAIL QUINN/EDUCATION INCENTIVE TOTAL EARNINGS POSTAL  \\\n",
       "22041    NaN                       NaN     $45,990.46  02124   \n",
       "22042    NaN                       NaN      $3,590.62  02128   \n",
       "22043    NaN                       NaN     $41,747.07  02118   \n",
       "22044    NaN                       NaN     $29,489.32  02125   \n",
       "22045    NaN                       NaN     $72,207.20  02140   \n",
       "\n",
       "                                            COMBO_STRING  \\\n",
       "22041      Zukowski III,CharlesBPS School Safety Service   \n",
       "22042  Zuluaga  Castro,Juan PabloBoston Cntr - Youth ...   \n",
       "22043  Zwarich,Maralene ZoannDudley St. Neighborhood ...   \n",
       "22044        Zweig,Susanna BBPS Substitute Teachers/Nurs   \n",
       "22045               Zwerdling,LauraBPS Special Education   \n",
       "\n",
       "                                             COMBO_N-D-T  \n",
       "22041  Zukowski III,CharlesBPS School Safety ServiceO...  \n",
       "22042  Zuluaga  Castro,Juan PabloBoston Cntr - Youth ...  \n",
       "22043  Zwarich,Maralene ZoannDudley St. Neighborhood ...  \n",
       "22044  Zweig,Susanna BBPS Substitute Teachers/NursSub...  \n",
       "22045        Zwerdling,LauraBPS Special EducationTeacher  "
      ]
     },
     "execution_count": 18,
     "metadata": {},
     "output_type": "execute_result"
    }
   ],
   "source": [
    "#check the values in the dataset. What is the range of salary and total compensation for a 5 row slice?\n",
    "dataframe.tail()"
   ]
  },
  {
   "cell_type": "code",
   "execution_count": 19,
   "metadata": {},
   "outputs": [
    {
     "data": {
      "text/plain": [
       "str"
      ]
     },
     "execution_count": 19,
     "metadata": {},
     "output_type": "execute_result"
    }
   ],
   "source": [
    "# Why is the retruned 'Max' less than even the lowest total earnings value in our subset? \n",
    "type(dataframe['TOTAL EARNINGS'].max())"
   ]
  },
  {
   "cell_type": "code",
   "execution_count": 20,
   "metadata": {},
   "outputs": [
    {
     "data": {
      "text/plain": [
       "NAME                          True\n",
       "DEPARTMENT_NAME               True\n",
       "TITLE                         True\n",
       "REGULAR                      False\n",
       "RETRO                        False\n",
       "OTHER                        False\n",
       "OVERTIME                     False\n",
       "INJURED                      False\n",
       "DETAIL                       False\n",
       "QUINN/EDUCATION INCENTIVE    False\n",
       "TOTAL EARNINGS                True\n",
       "POSTAL                       False\n",
       "COMBO_STRING                  True\n",
       "COMBO_N-D-T                   True\n",
       "dtype: bool"
      ]
     },
     "execution_count": 20,
     "metadata": {},
     "output_type": "execute_result"
    }
   ],
   "source": [
    "# looks like our total earnings data has string type,  not an integer. What about regular pay?\n",
    "dataframe.applymap(type).eq(str).all()"
   ]
  },
  {
   "cell_type": "code",
   "execution_count": 23,
   "metadata": {},
   "outputs": [
    {
     "data": {
      "text/plain": [
       "NAME                         True\n",
       "DEPARTMENT_NAME              True\n",
       "TITLE                        True\n",
       "REGULAR                      True\n",
       "RETRO                        True\n",
       "OTHER                        True\n",
       "OVERTIME                     True\n",
       "INJURED                      True\n",
       "DETAIL                       True\n",
       "QUINN/EDUCATION INCENTIVE    True\n",
       "TOTAL EARNINGS               True\n",
       "POSTAL                       True\n",
       "COMBO_STRING                 True\n",
       "COMBO_N-D-T                  True\n",
       "dtype: bool"
      ]
     },
     "execution_count": 23,
     "metadata": {},
     "output_type": "execute_result"
    }
   ],
   "source": [
    "dataframe.applymap(type).eq(str).any()"
   ]
  },
  {
   "cell_type": "code",
   "execution_count": 24,
   "metadata": {},
   "outputs": [
    {
     "data": {
      "text/plain": [
       "'$46,591.98'"
      ]
     },
     "execution_count": 24,
     "metadata": {},
     "output_type": "execute_result"
    }
   ],
   "source": [
    "dataframe['TOTAL EARNINGS'][0]"
   ]
  },
  {
   "cell_type": "code",
   "execution_count": 25,
   "metadata": {
    "collapsed": true
   },
   "outputs": [],
   "source": [
    "# convert total earnings data from string to integer so we can work with it.\n",
    "def cash_conversion(amount):\n",
    "    return float(amount.replace('$','').replace(',',''))\n",
    "\n",
    "dataframe['TOTAL EARNINGS'] = dataframe['TOTAL EARNINGS'].apply(cash_conversion)"
   ]
  },
  {
   "cell_type": "markdown",
   "metadata": {},
   "source": [
    "### <font color=green>Taking a quick peak.</font>"
   ]
  },
  {
   "cell_type": "code",
   "execution_count": 26,
   "metadata": {},
   "outputs": [
    {
     "name": "stdout",
     "output_type": "stream",
     "text": [
      "Below is a breakdown, numerical summary of the total earnings data.\n",
      "\n",
      "count     22046.000000\n",
      "mean      71677.868383\n",
      "std       51862.214555\n",
      "min           2.140000\n",
      "25%       30219.902500\n",
      "50%       66063.970000\n",
      "75%      104110.042500\n",
      "max      403408.610000\n",
      "Name: TOTAL EARNINGS, dtype: float64\n",
      "\n",
      "Below are the salaries of the top five highest total earners.\n",
      "11489    403408.61\n",
      "10327    396348.50\n",
      "15716    373959.35\n",
      "2113     351825.50\n",
      "9446     346105.17\n",
      "Name: TOTAL EARNINGS, dtype: float64\n",
      "\n",
      "Below is the information on this highest earner?\n"
     ]
    },
    {
     "data": {
      "text/html": [
       "<div>\n",
       "<style>\n",
       "    .dataframe thead tr:only-child th {\n",
       "        text-align: right;\n",
       "    }\n",
       "\n",
       "    .dataframe thead th {\n",
       "        text-align: left;\n",
       "    }\n",
       "\n",
       "    .dataframe tbody tr th {\n",
       "        vertical-align: top;\n",
       "    }\n",
       "</style>\n",
       "<table border=\"1\" class=\"dataframe\">\n",
       "  <thead>\n",
       "    <tr style=\"text-align: right;\">\n",
       "      <th></th>\n",
       "      <th>NAME</th>\n",
       "      <th>DEPARTMENT_NAME</th>\n",
       "      <th>TITLE</th>\n",
       "      <th>REGULAR</th>\n",
       "      <th>RETRO</th>\n",
       "      <th>OTHER</th>\n",
       "      <th>OVERTIME</th>\n",
       "      <th>INJURED</th>\n",
       "      <th>DETAIL</th>\n",
       "      <th>QUINN/EDUCATION INCENTIVE</th>\n",
       "      <th>TOTAL EARNINGS</th>\n",
       "      <th>POSTAL</th>\n",
       "      <th>COMBO_STRING</th>\n",
       "      <th>COMBO_N-D-T</th>\n",
       "    </tr>\n",
       "  </thead>\n",
       "  <tbody>\n",
       "    <tr>\n",
       "      <th>11489</th>\n",
       "      <td>Lee,Waiman</td>\n",
       "      <td>Boston Police Department</td>\n",
       "      <td>Police Detective</td>\n",
       "      <td>$92,514.73</td>\n",
       "      <td>$92,489.74</td>\n",
       "      <td>$21,850.80</td>\n",
       "      <td>$58,600.49</td>\n",
       "      <td>NaN</td>\n",
       "      <td>$121,946.00</td>\n",
       "      <td>$16,006.85</td>\n",
       "      <td>403408.61</td>\n",
       "      <td>02134</td>\n",
       "      <td>Lee,WaimanBoston Police Department</td>\n",
       "      <td>Lee,WaimanBoston Police DepartmentPolice Detec...</td>\n",
       "    </tr>\n",
       "  </tbody>\n",
       "</table>\n",
       "</div>"
      ],
      "text/plain": [
       "             NAME           DEPARTMENT_NAME             TITLE     REGULAR  \\\n",
       "11489  Lee,Waiman  Boston Police Department  Police Detective  $92,514.73   \n",
       "\n",
       "            RETRO       OTHER    OVERTIME INJURED       DETAIL  \\\n",
       "11489  $92,489.74  $21,850.80  $58,600.49     NaN  $121,946.00   \n",
       "\n",
       "      QUINN/EDUCATION INCENTIVE  TOTAL EARNINGS POSTAL  \\\n",
       "11489                $16,006.85       403408.61  02134   \n",
       "\n",
       "                             COMBO_STRING  \\\n",
       "11489  Lee,WaimanBoston Police Department   \n",
       "\n",
       "                                             COMBO_N-D-T  \n",
       "11489  Lee,WaimanBoston Police DepartmentPolice Detec...  "
      ]
     },
     "execution_count": 26,
     "metadata": {},
     "output_type": "execute_result"
    }
   ],
   "source": [
    "print('Below is a breakdown, numerical summary of the total earnings data.\\n')\n",
    "print(dataframe['TOTAL EARNINGS'].describe())\n",
    "print('\\nBelow are the salaries of the top five highest total earners.')\n",
    "print(dataframe['TOTAL EARNINGS'].sort_values(ascending=False).head(5))\n",
    "print('\\nBelow is the information on this highest earner?')\n",
    "baller = dataframe['TOTAL EARNINGS'].max()\n",
    "dataframe[dataframe['TOTAL EARNINGS'] == baller]"
   ]
  },
  {
   "cell_type": "code",
   "execution_count": 51,
   "metadata": {},
   "outputs": [
    {
     "data": {
      "text/html": [
       "<div>\n",
       "<style>\n",
       "    .dataframe thead tr:only-child th {\n",
       "        text-align: right;\n",
       "    }\n",
       "\n",
       "    .dataframe thead th {\n",
       "        text-align: left;\n",
       "    }\n",
       "\n",
       "    .dataframe tbody tr th {\n",
       "        vertical-align: top;\n",
       "    }\n",
       "</style>\n",
       "<table border=\"1\" class=\"dataframe\">\n",
       "  <thead>\n",
       "    <tr style=\"text-align: right;\">\n",
       "      <th></th>\n",
       "      <th>NAME</th>\n",
       "      <th>DEPARTMENT_NAME</th>\n",
       "      <th>TITLE</th>\n",
       "      <th>REGULAR</th>\n",
       "      <th>RETRO</th>\n",
       "      <th>OTHER</th>\n",
       "      <th>OVERTIME</th>\n",
       "      <th>INJURED</th>\n",
       "      <th>DETAIL</th>\n",
       "      <th>QUINN/EDUCATION INCENTIVE</th>\n",
       "      <th>TOTAL EARNINGS</th>\n",
       "      <th>POSTAL</th>\n",
       "    </tr>\n",
       "  </thead>\n",
       "  <tbody>\n",
       "    <tr>\n",
       "      <th>11489</th>\n",
       "      <td>Lee,Waiman</td>\n",
       "      <td>Boston Police Department</td>\n",
       "      <td>Police Detective</td>\n",
       "      <td>$92,514.73</td>\n",
       "      <td>$92,489.74</td>\n",
       "      <td>$21,850.80</td>\n",
       "      <td>$58,600.49</td>\n",
       "      <td>NaN</td>\n",
       "      <td>$121,946.00</td>\n",
       "      <td>$16,006.85</td>\n",
       "      <td>403408.61</td>\n",
       "      <td>02134</td>\n",
       "    </tr>\n",
       "  </tbody>\n",
       "</table>\n",
       "</div>"
      ],
      "text/plain": [
       "             NAME           DEPARTMENT_NAME             TITLE     REGULAR  \\\n",
       "11489  Lee,Waiman  Boston Police Department  Police Detective  $92,514.73   \n",
       "\n",
       "            RETRO       OTHER    OVERTIME INJURED       DETAIL  \\\n",
       "11489  $92,489.74  $21,850.80  $58,600.49     NaN  $121,946.00   \n",
       "\n",
       "      QUINN/EDUCATION INCENTIVE  TOTAL EARNINGS POSTAL  \n",
       "11489                $16,006.85       403408.61  02134  "
      ]
     },
     "execution_count": 51,
     "metadata": {},
     "output_type": "execute_result"
    }
   ],
   "source": [
    "cheese = dataframe['TOTAL EARNINGS'].max()\n",
    "dataframe[dataframe['TOTAL EARNINGS'] == cheese]"
   ]
  },
  {
   "cell_type": "markdown",
   "metadata": {},
   "source": [
    "\n",
    "    \n",
    "\n",
    "#### question 4"
   ]
  },
  {
   "cell_type": "code",
   "execution_count": 72,
   "metadata": {},
   "outputs": [
    {
     "data": {
      "text/plain": [
       "12"
      ]
     },
     "execution_count": 72,
     "metadata": {},
     "output_type": "execute_result"
    }
   ],
   "source": [
    "dataframe[dataframe['DEPARTMENT_NAME'] == 'Office of Arts & Culture']['NAME'].nunique()"
   ]
  },
  {
   "cell_type": "markdown",
   "metadata": {},
   "source": [
    "#### question 5"
   ]
  },
  {
   "cell_type": "code",
   "execution_count": 77,
   "metadata": {},
   "outputs": [
    {
     "data": {
      "text/plain": [
       "2436              Burros,Julie\n",
       "2437           Burroughs,Alene\n",
       "4437           Crowley,John A.\n",
       "6145       Elliott-Ortega,Kara\n",
       "6959               Foley,Niall\n",
       "7968       Goodfellow,Karin E.\n",
       "8223             Greene,Melodi\n",
       "8362          Guerra,Christian\n",
       "10154       Johnston,Jr,Thomas\n",
       "13190    McDonough,Ellen Marie\n",
       "16980     Redd,Rachedl Council\n",
       "18297          Schork,Heidi A.\n",
       "Name: NAME, dtype: object"
      ]
     },
     "execution_count": 77,
     "metadata": {},
     "output_type": "execute_result"
    }
   ],
   "source": [
    "dataframe[dataframe['DEPARTMENT_NAME'] == 'Office of Arts & Culture']['NAME']"
   ]
  },
  {
   "cell_type": "markdown",
   "metadata": {},
   "source": [
    "#### question 6"
   ]
  },
  {
   "cell_type": "code",
   "execution_count": 86,
   "metadata": {},
   "outputs": [
    {
     "data": {
      "text/html": [
       "<div>\n",
       "<style>\n",
       "    .dataframe thead tr:only-child th {\n",
       "        text-align: right;\n",
       "    }\n",
       "\n",
       "    .dataframe thead th {\n",
       "        text-align: left;\n",
       "    }\n",
       "\n",
       "    .dataframe tbody tr th {\n",
       "        vertical-align: top;\n",
       "    }\n",
       "</style>\n",
       "<table border=\"1\" class=\"dataframe\">\n",
       "  <thead>\n",
       "    <tr style=\"text-align: right;\">\n",
       "      <th></th>\n",
       "      <th>NAME</th>\n",
       "      <th>TOTAL EARNINGS</th>\n",
       "    </tr>\n",
       "  </thead>\n",
       "  <tbody>\n",
       "    <tr>\n",
       "      <th>2436</th>\n",
       "      <td>Burros,Julie</td>\n",
       "      <td>129442.43</td>\n",
       "    </tr>\n",
       "    <tr>\n",
       "      <th>7968</th>\n",
       "      <td>Goodfellow,Karin E.</td>\n",
       "      <td>92114.16</td>\n",
       "    </tr>\n",
       "    <tr>\n",
       "      <th>13190</th>\n",
       "      <td>McDonough,Ellen Marie</td>\n",
       "      <td>76752.09</td>\n",
       "    </tr>\n",
       "    <tr>\n",
       "      <th>10154</th>\n",
       "      <td>Johnston,Jr,Thomas</td>\n",
       "      <td>69512.41</td>\n",
       "    </tr>\n",
       "    <tr>\n",
       "      <th>6145</th>\n",
       "      <td>Elliott-Ortega,Kara</td>\n",
       "      <td>68781.34</td>\n",
       "    </tr>\n",
       "    <tr>\n",
       "      <th>18297</th>\n",
       "      <td>Schork,Heidi A.</td>\n",
       "      <td>66120.79</td>\n",
       "    </tr>\n",
       "    <tr>\n",
       "      <th>4437</th>\n",
       "      <td>Crowley,John A.</td>\n",
       "      <td>60554.55</td>\n",
       "    </tr>\n",
       "    <tr>\n",
       "      <th>8223</th>\n",
       "      <td>Greene,Melodi</td>\n",
       "      <td>58414.96</td>\n",
       "    </tr>\n",
       "    <tr>\n",
       "      <th>2437</th>\n",
       "      <td>Burroughs,Alene</td>\n",
       "      <td>54796.84</td>\n",
       "    </tr>\n",
       "    <tr>\n",
       "      <th>8362</th>\n",
       "      <td>Guerra,Christian</td>\n",
       "      <td>27266.25</td>\n",
       "    </tr>\n",
       "    <tr>\n",
       "      <th>6959</th>\n",
       "      <td>Foley,Niall</td>\n",
       "      <td>8918.30</td>\n",
       "    </tr>\n",
       "    <tr>\n",
       "      <th>16980</th>\n",
       "      <td>Redd,Rachedl Council</td>\n",
       "      <td>5339.34</td>\n",
       "    </tr>\n",
       "  </tbody>\n",
       "</table>\n",
       "</div>"
      ],
      "text/plain": [
       "                        NAME  TOTAL EARNINGS\n",
       "2436            Burros,Julie       129442.43\n",
       "7968     Goodfellow,Karin E.        92114.16\n",
       "13190  McDonough,Ellen Marie        76752.09\n",
       "10154     Johnston,Jr,Thomas        69512.41\n",
       "6145     Elliott-Ortega,Kara        68781.34\n",
       "18297        Schork,Heidi A.        66120.79\n",
       "4437         Crowley,John A.        60554.55\n",
       "8223           Greene,Melodi        58414.96\n",
       "2437         Burroughs,Alene        54796.84\n",
       "8362        Guerra,Christian        27266.25\n",
       "6959             Foley,Niall         8918.30\n",
       "16980   Redd,Rachedl Council         5339.34"
      ]
     },
     "execution_count": 86,
     "metadata": {},
     "output_type": "execute_result"
    }
   ],
   "source": [
    "#here we pass a list of column names to get the slice we want. \n",
    "dataframe[dataframe['DEPARTMENT_NAME'] == 'Office of Arts & Culture'][['NAME','TOTAL EARNINGS']]\\\n",
    ".sort_values('TOTAL EARNINGS',ascending=False)"
   ]
  },
  {
   "cell_type": "markdown",
   "metadata": {},
   "source": [
    "#### question 7"
   ]
  },
  {
   "cell_type": "code",
   "execution_count": 128,
   "metadata": {},
   "outputs": [
    {
     "name": "stdout",
     "output_type": "stream",
     "text": [
      "59834.455\n"
     ]
    },
    {
     "data": {
      "text/plain": [
       "59834.454999999994"
      ]
     },
     "execution_count": 128,
     "metadata": {},
     "output_type": "execute_result"
    }
   ],
   "source": [
    "print(dataframe[dataframe['DEPARTMENT_NAME'] == 'Office of Arts & Culture']['TOTAL EARNINGS'].mean())\n",
    "#store as a variable for reuse\n",
    "oac_mean_earnings = dataframe[dataframe['DEPARTMENT_NAME'] == 'Office of Arts & Culture']['TOTAL EARNINGS'].mean()\n",
    "oac_mean_earnings"
   ]
  },
  {
   "cell_type": "markdown",
   "metadata": {},
   "source": [
    "### <font color=green>Taking a quick peak.</font>"
   ]
  },
  {
   "cell_type": "code",
   "execution_count": 122,
   "metadata": {},
   "outputs": [
    {
     "data": {
      "image/png": "[encoded data removed]",
      "text/plain": [
       "<matplotlib.figure.Figure at 0x10eb1a9e8>"
      ]
     },
     "metadata": {},
     "output_type": "display_data"
    }
   ],
   "source": [
    "plt.style.use('fivethirtyeight')\n",
    "plt.hist(dataframe[dataframe['DEPARTMENT_NAME'] == 'Office of Arts & Culture']['TOTAL EARNINGS'],\\\n",
    "        color='green',alpha=.7)\n",
    "plt.title('Arts & Culture Total Earnings Distribution')\n",
    "plt.xlabel('earnings')\n",
    "plt.ylabel('instances');\n",
    "\n",
    "\n",
    "\n"
   ]
  },
  {
   "cell_type": "markdown",
   "metadata": {},
   "source": [
    "#### question 8"
   ]
  },
  {
   "cell_type": "code",
   "execution_count": 140,
   "metadata": {},
   "outputs": [
    {
     "data": {
      "text/plain": [
       "72701.096623376623"
      ]
     },
     "execution_count": 140,
     "metadata": {},
     "output_type": "execute_result"
    }
   ],
   "source": [
    "#get and store arts academy staff avg salary as variable for later use\n",
    "bps_arts_mean_earnings = dataframe[dataframe['DEPARTMENT_NAME'] == 'BPS Boston Arts Academy']\\\n",
    "['TOTAL EARNINGS'].mean()\n",
    "bps_arts_mean_earnings"
   ]
  },
  {
   "cell_type": "code",
   "execution_count": 144,
   "metadata": {},
   "outputs": [
    {
     "name": "stdout",
     "output_type": "stream",
     "text": [
      "Is the average salary for an Arts & Culture Office employee more than the average salary for an Arts Academy staff member?\n"
     ]
    },
    {
     "data": {
      "text/plain": [
       "False"
      ]
     },
     "execution_count": 144,
     "metadata": {},
     "output_type": "execute_result"
    }
   ],
   "source": [
    "#compare the arts and culture office average salary against the arts academy teachers salary\n",
    "print('Is the average salary for an Arts & Culture Office employee more than the average salary for an Arts Academy staff member?')\n",
    "oac_mean_earnings >= bps_arts_mean_earnings"
   ]
  },
  {
   "cell_type": "code",
   "execution_count": 151,
   "metadata": {},
   "outputs": [
    {
     "data": {
      "text/plain": [
       "12866.6"
      ]
     },
     "execution_count": 151,
     "metadata": {},
     "output_type": "execute_result"
    }
   ],
   "source": [
    "round(bps_arts_mean_earnings - oac_mean_earnings,1)"
   ]
  },
  {
   "cell_type": "markdown",
   "metadata": {},
   "source": [
    "#### question 9"
   ]
  },
  {
   "cell_type": "code",
   "execution_count": 161,
   "metadata": {},
   "outputs": [
    {
     "data": {
      "text/plain": [
       "8"
      ]
     },
     "execution_count": 161,
     "metadata": {},
     "output_type": "execute_result"
    }
   ],
   "source": [
    "# one way to do it....\n",
    "dataframe[dataframe['DEPARTMENT_NAME'] == 'Office of New Bostonians']['NAME'].count()"
   ]
  },
  {
   "cell_type": "code",
   "execution_count": 169,
   "metadata": {},
   "outputs": [
    {
     "data": {
      "text/plain": [
       "1033     False\n",
       "2768     False\n",
       "3276     False\n",
       "9888     False\n",
       "11374    False\n",
       "11539    False\n",
       "19034    False\n",
       "19240    False\n",
       "Name: NAME, dtype: bool"
      ]
     },
     "execution_count": 169,
     "metadata": {},
     "output_type": "execute_result"
    }
   ],
   "source": [
    "# checking through another way...\n",
    "dataframe[dataframe['DEPARTMENT_NAME'] == 'Office of New Bostonians']['NAME'].duplicated()"
   ]
  },
  {
   "cell_type": "code",
   "execution_count": 166,
   "metadata": {},
   "outputs": [
    {
     "data": {
      "text/plain": [
       "8"
      ]
     },
     "execution_count": 166,
     "metadata": {},
     "output_type": "execute_result"
    }
   ],
   "source": [
    "# another way to do it...\n",
    "dataframe[dataframe['DEPARTMENT_NAME'] == 'Office of New Bostonians']['NAME'].nunique()"
   ]
  },
  {
   "cell_type": "markdown",
   "metadata": {},
   "source": [
    "### <font color=green>Taking a quick peak.</font>"
   ]
  },
  {
   "cell_type": "code",
   "execution_count": 165,
   "metadata": {},
   "outputs": [
    {
     "data": {
      "text/html": [
       "<div>\n",
       "<style>\n",
       "    .dataframe thead tr:only-child th {\n",
       "        text-align: right;\n",
       "    }\n",
       "\n",
       "    .dataframe thead th {\n",
       "        text-align: left;\n",
       "    }\n",
       "\n",
       "    .dataframe tbody tr th {\n",
       "        vertical-align: top;\n",
       "    }\n",
       "</style>\n",
       "<table border=\"1\" class=\"dataframe\">\n",
       "  <thead>\n",
       "    <tr style=\"text-align: right;\">\n",
       "      <th></th>\n",
       "      <th>TOTAL EARNINGS</th>\n",
       "    </tr>\n",
       "  </thead>\n",
       "  <tbody>\n",
       "    <tr>\n",
       "      <th>count</th>\n",
       "      <td>8.000000</td>\n",
       "    </tr>\n",
       "    <tr>\n",
       "      <th>mean</th>\n",
       "      <td>59262.672500</td>\n",
       "    </tr>\n",
       "    <tr>\n",
       "      <th>std</th>\n",
       "      <td>22919.777122</td>\n",
       "    </tr>\n",
       "    <tr>\n",
       "      <th>min</th>\n",
       "      <td>28280.000000</td>\n",
       "    </tr>\n",
       "    <tr>\n",
       "      <th>25%</th>\n",
       "      <td>44082.077500</td>\n",
       "    </tr>\n",
       "    <tr>\n",
       "      <th>50%</th>\n",
       "      <td>63599.800000</td>\n",
       "    </tr>\n",
       "    <tr>\n",
       "      <th>75%</th>\n",
       "      <td>67605.527500</td>\n",
       "    </tr>\n",
       "    <tr>\n",
       "      <th>max</th>\n",
       "      <td>99742.100000</td>\n",
       "    </tr>\n",
       "  </tbody>\n",
       "</table>\n",
       "</div>"
      ],
      "text/plain": [
       "       TOTAL EARNINGS\n",
       "count        8.000000\n",
       "mean     59262.672500\n",
       "std      22919.777122\n",
       "min      28280.000000\n",
       "25%      44082.077500\n",
       "50%      63599.800000\n",
       "75%      67605.527500\n",
       "max      99742.100000"
      ]
     },
     "execution_count": 165,
     "metadata": {},
     "output_type": "execute_result"
    }
   ],
   "source": [
    "dataframe[dataframe['DEPARTMENT_NAME'] == 'Office of New Bostonians'].describe()"
   ]
  },
  {
   "cell_type": "markdown",
   "metadata": {},
   "source": [
    "#### question 10"
   ]
  },
  {
   "cell_type": "code",
   "execution_count": 245,
   "metadata": {
    "collapsed": true
   },
   "outputs": [],
   "source": [
    "# lets get and save the office average salary as a variable for later use\n",
    "onb_mean_earnings = dataframe[dataframe['DEPARTMENT_NAME'] == 'Office of New Bostonians']\\\n",
    "['TOTAL EARNINGS'].mean()"
   ]
  },
  {
   "cell_type": "code",
   "execution_count": 246,
   "metadata": {},
   "outputs": [
    {
     "data": {
      "text/plain": [
       "59262.672500000001"
      ]
     },
     "execution_count": 246,
     "metadata": {},
     "output_type": "execute_result"
    }
   ],
   "source": [
    "onb_mean_earnings"
   ]
  },
  {
   "cell_type": "code",
   "execution_count": 257,
   "metadata": {
    "collapsed": true
   },
   "outputs": [],
   "source": [
    "#lets get and save the average salary for Boston's employees\n",
    "all_city_mean_earnings = dataframe['TOTAL EARNINGS'].mean()"
   ]
  },
  {
   "cell_type": "code",
   "execution_count": 258,
   "metadata": {},
   "outputs": [
    {
     "data": {
      "text/plain": [
       "71677.868382926608"
      ]
     },
     "execution_count": 258,
     "metadata": {},
     "output_type": "execute_result"
    }
   ],
   "source": [
    "all_city_mean_earnings"
   ]
  },
  {
   "cell_type": "code",
   "execution_count": 260,
   "metadata": {},
   "outputs": [
    {
     "data": {
      "text/plain": [
       "False"
      ]
     },
     "execution_count": 260,
     "metadata": {},
     "output_type": "execute_result"
    }
   ],
   "source": [
    "# use the variables to ask the question\n",
    "onb_mean_earnings >= all_city_mean_earnings"
   ]
  },
  {
   "cell_type": "code",
   "execution_count": 269,
   "metadata": {},
   "outputs": [
    {
     "data": {
      "text/plain": [
       "(15000, 350000)"
      ]
     },
     "execution_count": 269,
     "metadata": {},
     "output_type": "execute_result"
    },
    {
     "data": {
      "image/png": "[encoded data removed]",
      "text/plain": [
       "<matplotlib.figure.Figure at 0x10e44ac18>"
      ]
     },
     "metadata": {},
     "output_type": "display_data"
    }
   ],
   "source": [
    "plt.hist(dataframe['TOTAL EARNINGS'],bins=50);\n",
    "plt.xlim(15000,350000)"
   ]
  },
  {
   "cell_type": "code",
   "execution_count": 281,
   "metadata": {},
   "outputs": [
    {
     "data": {
      "image/png": "[encoded data removed]",
      "text/plain": [
       "<matplotlib.figure.Figure at 0x12f939278>"
      ]
     },
     "metadata": {},
     "output_type": "display_data"
    }
   ],
   "source": [
    "plt.hist(dataframe['TOTAL EARNINGS'])\n",
    "plt.hist(dataframe[dataframe['DEPARTMENT_NAME']=='Boston Police Department']['TOTAL EARNINGS'])\n",
    "plt.xlim(10000,350000);"
   ]
  },
  {
   "cell_type": "code",
   "execution_count": 301,
   "metadata": {},
   "outputs": [
    {
     "data": {
      "text/plain": [
       "<matplotlib.legend.Legend at 0x12ef399b0>"
      ]
     },
     "execution_count": 301,
     "metadata": {},
     "output_type": "execute_result"
    },
    {
     "data": {
      "image/png": "[encoded data removed]",
      "text/plain": [
       "<matplotlib.figure.Figure at 0x12ef39780>"
      ]
     },
     "metadata": {},
     "output_type": "display_data"
    }
   ],
   "source": [
    "plt.hist(dataframe[dataframe['DEPARTMENT_NAME']=='Office of New Bostonians']\\\n",
    "         ['TOTAL EARNINGS'],color='blue',alpha=.7,label='BPD');\n",
    "\n",
    "\n",
    "plt.hist(dataframe[dataframe['DEPARTMENT_NAME']=='Office of Arts & Culture']\\\n",
    "         ['TOTAL EARNINGS'],color='red',alpha=.5)\n",
    "plt.hist(dataframe[dataframe['DEPARTMENT_NAME']=='BPS Boston Arts Academy']\\\n",
    "         ['TOTAL EARNINGS'],color='green',alpha=.5)\n",
    "\n",
    "plt.legend()"
   ]
  },
  {
   "cell_type": "code",
   "execution_count": null,
   "metadata": {
    "collapsed": true
   },
   "outputs": [],
   "source": []
  },
  {
   "cell_type": "code",
   "execution_count": null,
   "metadata": {
    "collapsed": true
   },
   "outputs": [],
   "source": []
  },
  {
   "cell_type": "code",
   "execution_count": null,
   "metadata": {
    "collapsed": true
   },
   "outputs": [],
   "source": []
  },
  {
   "cell_type": "code",
   "execution_count": null,
   "metadata": {
    "collapsed": true
   },
   "outputs": [],
   "source": []
  },
  {
   "cell_type": "code",
   "execution_count": null,
   "metadata": {
    "collapsed": true
   },
   "outputs": [],
   "source": []
  },
  {
   "cell_type": "code",
   "execution_count": null,
   "metadata": {
    "collapsed": true
   },
   "outputs": [],
   "source": []
  },
  {
   "cell_type": "code",
   "execution_count": null,
   "metadata": {
    "collapsed": true
   },
   "outputs": [],
   "source": []
  },
  {
   "cell_type": "code",
   "execution_count": null,
   "metadata": {
    "collapsed": true
   },
   "outputs": [],
   "source": []
  },
  {
   "cell_type": "code",
   "execution_count": null,
   "metadata": {
    "collapsed": true
   },
   "outputs": [],
   "source": []
  },
  {
   "cell_type": "code",
   "execution_count": null,
   "metadata": {
    "collapsed": true
   },
   "outputs": [],
   "source": []
  }
 ],
 "metadata": {
  "kernelspec": {
   "display_name": "Python 3",
   "language": "python",
   "name": "python3"
  },
  "language_info": {
   "codemirror_mode": {
    "name": "ipython",
    "version": 3
   },
   "file_extension": ".py",
   "mimetype": "text/x-python",
   "name": "python",
   "nbconvert_exporter": "python",
   "pygments_lexer": "ipython3",
   "version": "3.6.1"
  }
 },
 "nbformat": 4,
 "nbformat_minor": 2
}
