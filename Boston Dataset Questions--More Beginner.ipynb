{
 "cells": [
  {
   "cell_type": "markdown",
   "metadata": {},
   "source": [
    "# <font color='red'>What insights can we glean from this data?</font>\n",
    "1. What is the total number of people Boston pays?\n",
    "2. How many different departmental units is Boston responsible for providing salaries for? \n",
    "4. How many employees does the Office of Arts & Culture have? \n",
    "5. What are their names? \n",
    "6. What are thier names and salaries? \n",
    "\n",
    "3. Who is the highest earning employee & what agency do they work for? (<font color=blue>if what you get looks weird....check the data's type</font>) \n",
    "7. What is the average total earnings of an Arts & Culture employee?\n",
    "\n",
    "\n"
   ]
  },
  {
   "cell_type": "code",
   "execution_count": null,
   "metadata": {
    "collapsed": true
   },
   "outputs": [],
   "source": []
  },
  {
   "cell_type": "code",
   "execution_count": null,
   "metadata": {
    "collapsed": true
   },
   "outputs": [],
   "source": []
  },
  {
   "cell_type": "code",
   "execution_count": null,
   "metadata": {
    "collapsed": true
   },
   "outputs": [],
   "source": []
  }
 ],
 "metadata": {
  "kernelspec": {
   "display_name": "Python 3",
   "language": "python",
   "name": "python3"
  },
  "language_info": {
   "codemirror_mode": {
    "name": "ipython",
    "version": 3
   },
   "file_extension": ".py",
   "mimetype": "text/x-python",
   "name": "python",
   "nbconvert_exporter": "python",
   "pygments_lexer": "ipython3",
   "version": "3.6.1"
  }
 },
 "nbformat": 4,
 "nbformat_minor": 2
}
