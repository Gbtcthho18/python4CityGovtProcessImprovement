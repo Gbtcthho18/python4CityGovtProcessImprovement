{
 "cells": [
  {
   "cell_type": "markdown",
   "metadata": {},
   "source": [
    "# <font color='red'>What types of insights should we be able to get from this data set?</font>"
   ]
  },
  {
   "cell_type": "markdown",
   "metadata": {},
   "source": [
    "\n",
    "\n",
    "1. How many citations get abated annually? \n",
    "2. What percentage of citations got paid? \n",
    "3. What period does this data set cover? \n",
    "4. What percentage of citations actually get paid in the year they are issued? \n",
    "5. What is the average amoung of time it takes for a citation to get paid? \n",
    "6. What 5 neighborhoods are the slowest at paying citations? \n",
    "7. What 5 neighborhoods are the fastes at paying citations?\n",
    "8. Is there a neighborhood that gets a high volume citation that has a low payment rate but the City continues to issue it in this neighborhood regardless of non-payment? \n",
    "\n",
    "9. What is the best way to determine the true volume of annual citations in the Belair Edison neighborhood? \n",
    "10. According to this dataset, how many neighborhoods are there in Baltimore?\n",
    "11. Are there any nieghborhoods that get a disporportionate amount of the ECB citation enforcement? \n",
    "12. Amongst the 2016 officers, who issues the most citations and who issues the least citations?"
   ]
  },
  {
   "cell_type": "code",
   "execution_count": null,
   "metadata": {
    "collapsed": true
   },
   "outputs": [],
   "source": []
  },
  {
   "cell_type": "code",
   "execution_count": null,
   "metadata": {
    "collapsed": true
   },
   "outputs": [],
   "source": []
  }
 ],
 "metadata": {
  "kernelspec": {
   "display_name": "Python 3",
   "language": "python",
   "name": "python3"
  },
  "language_info": {
   "codemirror_mode": {
    "name": "ipython",
    "version": 3
   },
   "file_extension": ".py",
   "mimetype": "text/x-python",
   "name": "python",
   "nbconvert_exporter": "python",
   "pygments_lexer": "ipython3",
   "version": "3.6.1"
  }
 },
 "nbformat": 4,
 "nbformat_minor": 2
}
